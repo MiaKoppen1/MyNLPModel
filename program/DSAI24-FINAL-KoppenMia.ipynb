{
 "cells": [
  {
   "cell_type": "code",
   "execution_count": 1,
   "metadata": {},
   "outputs": [],
   "source": [
    "#STEP ONE : IMPORTS"
   ]
  },
  {
   "cell_type": "code",
   "execution_count": 13,
   "metadata": {},
   "outputs": [],
   "source": [
    "import pandas as pd\n",
    "import nltk\n",
    "from nltk.tokenize import word_tokenize\n",
    "from collections import Counter\n",
    "\n",
    "from sklearn.model_selection import train_test_split "
   ]
  },
  {
   "cell_type": "code",
   "execution_count": 3,
   "metadata": {},
   "outputs": [],
   "source": [
    "#STEP 2 : DATA COLLECTION AND CLEANING"
   ]
  },
  {
   "cell_type": "code",
   "execution_count": 4,
   "metadata": {},
   "outputs": [
    {
     "name": "stdout",
     "output_type": "stream",
     "text": [
      "  English words/sentences French words/sentences\n",
      "0                     Hi.                 Salut!\n",
      "1                    Run!                Cours !\n",
      "2                    Run!               Courez !\n",
      "3                    Who?                  Qui ?\n",
      "4                    Wow!             Ça alors !\n"
     ]
    }
   ],
   "source": [
    "english_french = pd.read_csv('C:/Users/user/Desktop/AI and Data Science Workshop/MyNLPModel/data/eng_-french.csv')\n",
    "\n",
    "print(english_french.head())"
   ]
  },
  {
   "cell_type": "code",
   "execution_count": 5,
   "metadata": {},
   "outputs": [],
   "source": [
    "english_french['French words/sentences'] = english_french['French words/sentences'].str.lower()\n",
    "english_french['English words/sentences'] = english_french['English words/sentences'].str.lower()"
   ]
  },
  {
   "cell_type": "code",
   "execution_count": 6,
   "metadata": {},
   "outputs": [
    {
     "data": {
      "text/html": [
       "<div>\n",
       "<style scoped>\n",
       "    .dataframe tbody tr th:only-of-type {\n",
       "        vertical-align: middle;\n",
       "    }\n",
       "\n",
       "    .dataframe tbody tr th {\n",
       "        vertical-align: top;\n",
       "    }\n",
       "\n",
       "    .dataframe thead th {\n",
       "        text-align: right;\n",
       "    }\n",
       "</style>\n",
       "<table border=\"1\" class=\"dataframe\">\n",
       "  <thead>\n",
       "    <tr style=\"text-align: right;\">\n",
       "      <th></th>\n",
       "      <th>English words/sentences</th>\n",
       "      <th>French words/sentences</th>\n",
       "    </tr>\n",
       "  </thead>\n",
       "  <tbody>\n",
       "    <tr>\n",
       "      <th>0</th>\n",
       "      <td>hi.</td>\n",
       "      <td>salut!</td>\n",
       "    </tr>\n",
       "    <tr>\n",
       "      <th>1</th>\n",
       "      <td>run!</td>\n",
       "      <td>cours !</td>\n",
       "    </tr>\n",
       "    <tr>\n",
       "      <th>2</th>\n",
       "      <td>run!</td>\n",
       "      <td>courez !</td>\n",
       "    </tr>\n",
       "    <tr>\n",
       "      <th>3</th>\n",
       "      <td>who?</td>\n",
       "      <td>qui ?</td>\n",
       "    </tr>\n",
       "    <tr>\n",
       "      <th>4</th>\n",
       "      <td>wow!</td>\n",
       "      <td>ça alors !</td>\n",
       "    </tr>\n",
       "  </tbody>\n",
       "</table>\n",
       "</div>"
      ],
      "text/plain": [
       "  English words/sentences French words/sentences\n",
       "0                     hi.                 salut!\n",
       "1                    run!                cours !\n",
       "2                    run!               courez !\n",
       "3                    who?                  qui ?\n",
       "4                    wow!             ça alors !"
      ]
     },
     "execution_count": 6,
     "metadata": {},
     "output_type": "execute_result"
    }
   ],
   "source": [
    "english_french.head()"
   ]
  },
  {
   "cell_type": "code",
   "execution_count": 7,
   "metadata": {},
   "outputs": [],
   "source": [
    "#STEP 3 : TOKENIZING THE DATA"
   ]
  },
  {
   "cell_type": "code",
   "execution_count": 8,
   "metadata": {},
   "outputs": [],
   "source": [
    "english_french['English_tokenized'] = english_french['English words/sentences'].apply(word_tokenize)\n",
    "english_french['French_tokenized'] = english_french['French words/sentences'].apply(word_tokenize)\n"
   ]
  },
  {
   "cell_type": "code",
   "execution_count": 9,
   "metadata": {},
   "outputs": [],
   "source": [
    "#STEP 4 : BUILDING THE VOCABULARY"
   ]
  },
  {
   "cell_type": "code",
   "execution_count": 10,
   "metadata": {},
   "outputs": [],
   "source": [
    "# Build vocabulary for English\n",
    "English_vocab = Counter(word for sentence in english_french['English_tokenized'] for word in sentence)\n",
    "English_word_to_index = {word: idx for idx, (word, _) in enumerate(English_vocab.items(), 1)}\n",
    "English_index_to_word = {idx: word for word, idx in English_word_to_index.items()}\n",
    "\n",
    "# Build vocabulary for French\n",
    "French_vocab = Counter(word for sentence in english_french['French_tokenized'] for word in sentence)\n",
    "French_word_to_index = {word: idx for idx, (word, _) in enumerate(French_vocab.items(), 1)}\n",
    "French_index_to_word = {idx: word for word, idx in French_word_to_index.items()}"
   ]
  },
  {
   "cell_type": "code",
   "execution_count": 11,
   "metadata": {},
   "outputs": [],
   "source": [
    "#STEP 5 : ENCODING; CONVERTING THE SENTENCES INTO SEQUENCES OF INTEGERS BASED ON THE VOCABULARY."
   ]
  },
  {
   "cell_type": "code",
   "execution_count": 12,
   "metadata": {},
   "outputs": [],
   "source": [
    "# Encode English sentences\n",
    "english_french['English_encoded'] = english_french['English_tokenized'].apply(lambda x: [English_word_to_index[word] for word in x])\n",
    "\n",
    "# Encode French sentences\n",
    "english_french['French_encoded'] = english_french['French_tokenized'].apply(lambda x: [French_word_to_index[word] for word in x])"
   ]
  },
  {
   "cell_type": "code",
   "execution_count": null,
   "metadata": {},
   "outputs": [],
   "source": [
    "#STEP 6 : TRAIN-TEST-SPLITTING THE DATA FOR TESTING."
   ]
  },
  {
   "cell_type": "code",
   "execution_count": null,
   "metadata": {},
   "outputs": [],
   "source": [
    "x = \n",
    "y = "
   ]
  },
  {
   "cell_type": "code",
   "execution_count": null,
   "metadata": {},
   "outputs": [],
   "source": [
    "#STEP 7 : BUILDING THE MODEL"
   ]
  },
  {
   "cell_type": "code",
   "execution_count": null,
   "metadata": {},
   "outputs": [],
   "source": []
  },
  {
   "cell_type": "code",
   "execution_count": null,
   "metadata": {},
   "outputs": [],
   "source": [
    "#STEP 8 : TESTING MACHINE PREDICTIONS."
   ]
  },
  {
   "cell_type": "code",
   "execution_count": null,
   "metadata": {},
   "outputs": [],
   "source": []
  },
  {
   "cell_type": "code",
   "execution_count": null,
   "metadata": {},
   "outputs": [],
   "source": [
    "#TRANSLATING USER INPUT FROM ENGLISH TO FRENCH.\n",
    "\n",
    "# Predict and Translate User Input\n",
    "def preprocess_input(sentence):\n",
    "    tokens = word_tokenize(sentence.lower())\n",
    "    token_ids = [English_word_to_index.get(word, 0) for word in tokens]  # Use 0 for unknown words\n",
    "    padded_token_ids = pad_sequences([token_ids], maxlen=max_len_english, padding='post')\n",
    "    return padded_token_ids\n",
    "\n",
    "def decode_sequence(input_seq):\n",
    "    decoded_sentence = []\n",
    "    for idx in input_seq:\n",
    "        word = French_index_to_word.get(idx, '')\n",
    "        if word:\n",
    "            decoded_sentence.append(word)\n",
    "    return ' '.join(decoded_sentence)\n",
    "\n",
    "def translate_to_french(sentence):\n",
    "    preprocessed_input = preprocess_input(sentence)\n",
    "    prediction = model.predict(preprocessed_input)\n",
    "    predicted_token_ids = prediction.argmax(axis=-1)[0]  # Get the token IDs with the highest probability\n",
    "    translated_sentence = decode_sequence(predicted_token_ids)\n",
    "    return translated_sentence\n",
    "\n",
    "# Example usage\n",
    "user_input = input(\"Enter an English sentence to translate: \")\n",
    "Translated_sentence = Translate_to_french(user_input)\n",
    "print(f\"Translated to French: {Translated_sentence}\")"
   ]
  }
 ],
 "metadata": {
  "kernelspec": {
   "display_name": "base",
   "language": "python",
   "name": "python3"
  },
  "language_info": {
   "codemirror_mode": {
    "name": "ipython",
    "version": 3
   },
   "file_extension": ".py",
   "mimetype": "text/x-python",
   "name": "python",
   "nbconvert_exporter": "python",
   "pygments_lexer": "ipython3",
   "version": "3.11.7"
  }
 },
 "nbformat": 4,
 "nbformat_minor": 2
}
